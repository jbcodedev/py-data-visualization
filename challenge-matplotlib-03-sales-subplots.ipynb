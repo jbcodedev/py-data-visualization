{
 "cells": [
  {
   "cell_type": "markdown",
   "metadata": {},
   "source": [
    "# <font color=green> **Challenge 03 : Personalizando los subplots con los datos de ventas de tiendas diferentes**"
   ]
  },
  {
   "cell_type": "markdown",
   "metadata": {},
   "source": [
    "En esta segunda parte del desafío, debes explorar las opciones de personalización de los subgráficos para hacer que la figura sea más clara y atractiva para la gerencia de la empresa.\n",
    "\n",
    "Algunas ideas de personalización que puedes explorar son:\n",
    "\n",
    "- Cambiar la posición de los títulos de los subgráficos a la izquierda.\n",
    "- Aumentar el tamaño de la fuente del título general de la figura para resaltarlo.\n",
    "- Aumentar el tamaño de los títulos y etiquetas de los ejes de los subgráficos.\n",
    "- Hacer que las líneas sean más gruesas.\n",
    "- Cambiar el color de las líneas de cada tienda para diferenciarlas aún más.\n",
    "\n",
    "¡Siéntete libre de probar más personalizaciones!\n",
    "\n",
    "Y aquí va otro consejo: puedes reducir el tamaño del código utilizando el comando `for i, ax in enumerate(axs.flat):`, que permite un bucle que itera sobre todos los subgráficos de la figura. Dentro de este bucle, puedes pasar las funciones `plot`, `set_title`, `set_xlabel`, `set_ylabel`, y así sucesivamente...\n",
    "\n",
    "Recuerda que los datos son los siguientes:\n",
    "\n",
    "~~~Python\n",
    "tiendas = ['A', 'B', 'C', 'D']\n",
    "ventas_2022 = {'Ene': [100, 80, 150, 50],\n",
    "    'Feb': [120, 90, 170, 60],\n",
    "    'Mar': [150, 100, 200, 80],\n",
    "    'Abr': [180, 110, 230, 90],\n",
    "    'May': [220, 190, 350, 200],\n",
    "    'Jun': [230, 150, 280, 120],\n",
    "    'Jul': [250, 170, 300, 140],\n",
    "    'Ago': [260, 180, 310, 150],\n",
    "    'Sep': [240, 160, 290, 130],\n",
    "    'Oct': [220, 140, 270, 110],\n",
    "    'Nov': [400, 220, 350, 190],\n",
    "    'Dec': [300, 350, 400, 250]}\n",
    "~~~\n",
    "\n",
    "¡Ahora es el momento de poner manos a la obra! Experimenta diferentes personalizaciones y haz que la figura sea aún más impresionante. ¡Vamos!"
   ]
  }
 ],
 "metadata": {
  "kernelspec": {
   "display_name": "env",
   "language": "python",
   "name": "python3"
  },
  "language_info": {
   "name": "python",
   "version": "3.13.0"
  }
 },
 "nbformat": 4,
 "nbformat_minor": 2
}
