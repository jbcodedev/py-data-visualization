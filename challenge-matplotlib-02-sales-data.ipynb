{
 "cells": [
  {
   "cell_type": "markdown",
   "metadata": {},
   "source": [
    "# <font color=green> **Challenge : visualizando datos de ventas de tiendas diferentes**"
   ]
  },
  {
   "cell_type": "markdown",
   "metadata": {},
   "source": [
    "Trabajas como Analista de Datos en una empresa minorista y te asignaron la tarea de crear una figura con subgráficos que muestre la variación en el número de ventas en cuatro tiendas diferentes a lo largo de un año. La gerencia de la empresa necesita visualizar claramente las tendencias de ventas en cada tienda, para que puedan tomar decisiones estratégicas sobre inventarios y acciones de marketing. Para ello, debes crear cuatro subgráficos dispuestos en dos filas y dos columnas, donde cada subgráfico represente una tienda diferente. En este desafío, cada subgráfico debe presentar un gráfico de líneas que muestre la variación del número de ventas a lo largo de los meses del año.\n",
    "\n",
    "¡Ahora es el momento de mostrar tus habilidades en análisis de datos y visualización! Para crear el DataFrame con el número de ventas de las tiendas y crear la figura, utiliza la siguiente información:\n",
    "\n",
    "~~~python\n",
    "tiendas = ['A', 'B', 'C', 'D']\n",
    "ventas_2022 = {'Ene': [100, 80, 150, 50],\n",
    "    'Feb': [120, 90, 170, 60],\n",
    "    'Mar': [150, 100, 200, 80],\n",
    "    'Abr': [180, 110, 230, 90],\n",
    "    'May': [220, 190, 350, 200],\n",
    "    'Jun': [230, 150, 280, 120],\n",
    "    'Jul': [250, 170, 300, 140],\n",
    "    'Ago': [260, 180, 310, 150],\n",
    "    'Sep': [240, 160, 290, 130],\n",
    "    'Oct': [220, 140, 270, 110],\n",
    "    'Nov': [400, 220, 350, 190],\n",
    "    'Dec': [300, 350, 400, 250]}\n",
    "~~~\n",
    "\n",
    "Consejo: Para facilitar la creación de los subgráficos, puedes definir la columna \"tiendas\" como índice del DataFrame y utilizar la propiedad loc de la biblioteca Pandas para trazar cada una de las tiendas.\n",
    "\n",
    "¡No olvides agregar un título general a la figura, títulos a los subgráficos y etiquetas a los ejes! Además, asegúrate del tamaño de la figura y del espaciado entre los subgráficos."
   ]
  }
 ],
 "metadata": {
  "kernelspec": {
   "display_name": "env",
   "language": "python",
   "name": "python3"
  },
  "language_info": {
   "name": "python",
   "version": "3.13.0"
  }
 },
 "nbformat": 4,
 "nbformat_minor": 2
}
